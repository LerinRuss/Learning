{
  "nbformat": 4,
  "nbformat_minor": 0,
  "metadata": {
    "colab": {
      "provenance": [],
      "collapsed_sections": []
    },
    "kernelspec": {
      "name": "python3",
      "display_name": "Python 3"
    },
    "language_info": {
      "name": "python"
    }
  },
  "cells": [
    {
      "cell_type": "code",
      "execution_count": null,
      "metadata": {
        "colab": {
          "base_uri": "https://localhost:8080/"
        },
        "id": "g2UJBzpQTagE",
        "outputId": "2bd82b10-52a7-4252-ebcd-33e306ce1b8e"
      },
      "outputs": [
        {
          "output_type": "stream",
          "name": "stdout",
          "text": [
            " I: 349 Error:0.010 Correct:0.993"
          ]
        }
      ],
      "source": [
        "import sys, numpy as np\n",
        "from keras.datasets import mnist\n",
        "\n",
        "(x_train, y_train), (x_test, y_test) = mnist.load_data()\n",
        "\n",
        "images, labels = (x_train[0:1000].reshape(1000, 28*28) / 255, y_train[0:1000])\n",
        "one_hot_labels = np.zeros((len(labels), 10))\n",
        "\n",
        "for i,l in enumerate(labels):\n",
        "  one_hot_labels[i][l] = 1\n",
        "labels = one_hot_labels\n",
        "\n",
        "test_images = x_test.reshape(len(x_test), 28*28) / 255\n",
        "test_labels = np.zeros((len(y_test), 10))\n",
        "for i,l in enumerate(y_test):\n",
        "  test_labels[i][l] = 1\n",
        "\n",
        "np.random.seed(1)\n",
        "relu = lambda x: (x >= 0) * x\n",
        "relu2deriv = lambda x: x>0\n",
        "alpha, iterations, hidden_size = (0.005, 350, 40)\n",
        "pixels_per_image, num_labels = (784, 10)\n",
        "\n",
        "weights_0_1 = 0.2 * np.random.random((pixels_per_image, hidden_size)) - 0.1\n",
        "weights_1_2 = 0.2 * np.random.random((hidden_size, num_labels))\n",
        "\n",
        "for j in range(iterations):\n",
        "  error, correct_cnt = (0.0, 0)\n",
        "\n",
        "  for i in range(len(images)):\n",
        "    layer_0 = images[i:i+1]\n",
        "    layer_1 = relu(np.dot(layer_0, weights_0_1))\n",
        "    layer_2 = np.dot(layer_1, weights_1_2)\n",
        "\n",
        "    error += np.sum((labels[i:i+1] - layer_2) ** 2)\n",
        "    correct_cnt += int(np.argmax(layer_2) == np.argmax(labels[i:i+1]))\n",
        "    \n",
        "    layer_2_delta = (labels[i:i+1] - layer_2)\n",
        "    layer_1_delta = layer_2_delta.dot(weights_1_2.T) * relu2deriv(layer_1)\n",
        "\n",
        "    weights_1_2 += alpha * layer_1.T.dot(layer_2_delta)\n",
        "    weights_0_1 += alpha * layer_0.T.dot(layer_1_delta)\n",
        "  sys.stdout.write(\"\\r\" + \\\n",
        "              \" I: \" + str(j) + \\\n",
        "              \" Error:\" + str(error/float(len(images)))[0:5] + \\\n",
        "              \" Correct:\" + str(correct_cnt/float(len(images))))"
      ]
    },
    {
      "cell_type": "code",
      "source": [
        "if j % 10 == 0 or j == iterations - 1:\n",
        "  error, correct_cnt = (0.0, 0)\n",
        "\n",
        "  for i in range(len(test_images)):\n",
        "    layer_0 = test_images[i:i+1]\n",
        "    layer_1 = relu(np.dot(layer_0, weights_0_1))\n",
        "    layer_2 = np.dot(layer_1, weights_1_2)\n",
        "\n",
        "    error += np.sum((test_labels[i:i+1] - layer_2) ** 2)\n",
        "    correct_cnt += int(np.argmax(layer_2) == np.argmax(test_labels[i:i+1]))\n",
        "  sys.stdout.write(\" Test-Err:\" + str(error/float(len(test_images)))[0:5] + \\\n",
        "                \" Test-Acc:\" + str(correct_cnt/float(len(test_images))))\n",
        "  print()"
      ],
      "metadata": {
        "id": "pY7UtiGXL3Mc",
        "outputId": "791900b1-2f0a-4998-f50e-a3da258a3930",
        "colab": {
          "base_uri": "https://localhost:8080/"
        }
      },
      "execution_count": null,
      "outputs": [
        {
          "output_type": "stream",
          "name": "stdout",
          "text": [
            " Test-Err:0.384 Test-Acc:0.8105\n"
          ]
        }
      ]
    },
    {
      "cell_type": "code",
      "source": [
        "print(labels[0])\n",
        "print(x_train[0].shape)\n",
        "res = x_train[0:1000].reshape(1000, 28*28)\n",
        "print(np.amax(res))\n"
      ],
      "metadata": {
        "colab": {
          "base_uri": "https://localhost:8080/"
        },
        "id": "Ra1FjPtFUYfB",
        "outputId": "45a4b639-5576-462c-ec98-f63e9bbb617a"
      },
      "execution_count": null,
      "outputs": [
        {
          "output_type": "stream",
          "name": "stdout",
          "text": [
            "5\n",
            "(28, 28)\n",
            "255\n"
          ]
        }
      ]
    }
  ]
}