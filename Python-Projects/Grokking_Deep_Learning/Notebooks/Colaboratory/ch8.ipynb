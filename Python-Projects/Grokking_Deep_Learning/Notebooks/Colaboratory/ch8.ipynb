{
 "cells": [
  {
   "cell_type": "code",
   "execution_count": 9,
   "metadata": {
    "colab": {
     "base_uri": "https://localhost:8080/"
    },
    "id": "g2UJBzpQTagE",
    "outputId": "01cf0c5f-09b4-4478-9cef-aa978edbe8aa"
   },
   "outputs": [
    {
     "name": "stdout",
     "output_type": "stream",
     "text": [
      "\n",
      " I:0 Test Error:1.295 Test Correct:0.0991 Train Error:1.588 Train Correct:0.098\n",
      " I:10 Test Error:0.917 Test Correct:0.1683 Train Error:1.027 Train Correct:0.148\n",
      " I:20 Test Error:0.863 Test Correct:0.3011 Train Error:0.940 Train Correct:0.211\n",
      " I:30 Test Error:0.831 Test Correct:0.3873 Train Error:0.902 Train Correct:0.225\n",
      " I:40 Test Error:0.808 Test Correct:0.4407 Train Error:0.860 Train Correct:0.289\n",
      " I:50 Test Error:0.788 Test Correct:0.4771 Train Error:0.831 Train Correct:0.35\n",
      " I:60 Test Error:0.770 Test Correct:0.5031 Train Error:0.812 Train Correct:0.368\n",
      " I:70 Test Error:0.755 Test Correct:0.522 Train Error:0.809 Train Correct:0.393\n",
      " I:80 Test Error:0.740 Test Correct:0.5387 Train Error:0.792 Train Correct:0.394\n",
      " I:90 Test Error:0.728 Test Correct:0.5514 Train Error:0.774 Train Correct:0.426\n",
      " I:100 Test Error:0.716 Test Correct:0.5611 Train Error:0.764 Train Correct:0.444\n",
      " I:110 Test Error:0.705 Test Correct:0.5691 Train Error:0.762 Train Correct:0.427\n",
      " I:120 Test Error:0.694 Test Correct:0.5772 Train Error:0.737 Train Correct:0.478\n",
      " I:130 Test Error:0.685 Test Correct:0.5847 Train Error:0.739 Train Correct:0.455\n",
      " I:140 Test Error:0.675 Test Correct:0.5903 Train Error:0.727 Train Correct:0.49\n",
      " I:150 Test Error:0.667 Test Correct:0.5963 Train Error:0.727 Train Correct:0.488\n",
      " I:160 Test Error:0.658 Test Correct:0.6043 Train Error:0.722 Train Correct:0.496\n",
      " I:170 Test Error:0.650 Test Correct:0.6125 Train Error:0.709 Train Correct:0.501\n",
      " I:180 Test Error:0.643 Test Correct:0.6199 Train Error:0.707 Train Correct:0.491\n",
      " I:190 Test Error:0.635 Test Correct:0.6257 Train Error:0.692 Train Correct:0.513\n",
      " I:200 Test Error:0.628 Test Correct:0.6322 Train Error:0.686 Train Correct:0.522\n",
      " I:210 Test Error:0.621 Test Correct:0.6388 Train Error:0.682 Train Correct:0.52\n",
      " I:220 Test Error:0.614 Test Correct:0.6452 Train Error:0.675 Train Correct:0.535\n",
      " I:230 Test Error:0.608 Test Correct:0.6503 Train Error:0.664 Train Correct:0.544\n",
      " I:240 Test Error:0.602 Test Correct:0.6557 Train Error:0.668 Train Correct:0.53\n",
      " I:250 Test Error:0.596 Test Correct:0.6575 Train Error:0.671 Train Correct:0.531\n",
      " I:260 Test Error:0.590 Test Correct:0.663 Train Error:0.652 Train Correct:0.553\n",
      " I:270 Test Error:0.585 Test Correct:0.6674 Train Error:0.648 Train Correct:0.558\n",
      " I:280 Test Error:0.580 Test Correct:0.6708 Train Error:0.649 Train Correct:0.553\n",
      " I:290 Test Error:0.575 Test Correct:0.6722 Train Error:0.640 Train Correct:0.566\n",
      " I:300 Test Error:0.570 Test Correct:0.6763 Train Error:0.631 Train Correct:0.587\n",
      " I:310 Test Error:0.566 Test Correct:0.6803 Train Error:0.629 Train Correct:0.561\n",
      " I:320 Test Error:0.562 Test Correct:0.6834 Train Error:0.624 Train Correct:0.583\n",
      " I:330 Test Error:0.557 Test Correct:0.6866 Train Error:0.619 Train Correct:0.582\n",
      " I:340 Test Error:0.553 Test Correct:0.6892 Train Error:0.617 Train Correct:0.588"
     ]
    }
   ],
   "source": [
    "import sys, numpy as np\n",
    "from keras.datasets import mnist\n",
    "\n",
    "np.random.seed(1)\n",
    "\n",
    "(x_train, y_train), (x_test, y_test) = mnist.load_data()\n",
    "\n",
    "images, labels = (x_train[0:1000].reshape(1000, 28*28) / 255, y_train[0:1000])\n",
    "one_hot_labels = np.zeros((len(labels), 10))\n",
    "\n",
    "for i,l in enumerate(labels):\n",
    "  one_hot_labels[i][l] = 1\n",
    "labels = one_hot_labels\n",
    "\n",
    "test_images = x_test.reshape(len(x_test), 28*28) / 255\n",
    "test_labels = np.zeros((len(y_test), 10))\n",
    "for i,l in enumerate(y_test):\n",
    "  test_labels[i][l] = 1\n",
    "\n",
    "relu = lambda x: (x >= 0) * x\n",
    "relu2deriv = lambda x: x>0\n",
    "\n",
    "batch_size = 100\n",
    "alpha, iterations, hidden_size = (0.005, 350, 40)\n",
    "pixels_per_image, num_labels = (784, 10)\n",
    "\n",
    "weights_0_1 = 0.2 * np.random.random((pixels_per_image, hidden_size)) - 0.1\n",
    "weights_1_2 = 0.2 * np.random.random((hidden_size, num_labels)) - 0.1\n",
    "\n",
    "for j in range(iterations):\n",
    "  error, correct_cnt = (0.0, 0)\n",
    "\n",
    "  for i in range(int(len(images)/batch_size)):\n",
    "    batch_start, batch_end = ((i * batch_size), ((i+1) * batch_size))\n",
    "\n",
    "    layer_0 = images[batch_start:batch_end]\n",
    "    layer_1 = relu(np.dot(layer_0, weights_0_1))\n",
    "    dropout_mask = np.random.randint(2, size=layer_1.shape)\n",
    "    layer_1 *= dropout_mask * 2\n",
    "    layer_2 = np.dot(layer_1, weights_1_2)\n",
    "\n",
    "    error += np.sum((labels[batch_start:batch_end] - layer_2) ** 2)\n",
    "    \n",
    "    for k in range(batch_size):\n",
    "      correct_cnt += int(np.argmax(layer_2[k:k+1]) == np.argmax(labels[batch_start+k:batch_start+k+1]))\n",
    "      \n",
    "    layer_2_delta = (labels[batch_start:batch_end] - layer_2) / batch_size\n",
    "    layer_1_delta = layer_2_delta.dot(weights_1_2.T) * relu2deriv(layer_1)\n",
    "    layer_1_delta *= dropout_mask\n",
    "\n",
    "    weights_1_2 += alpha * layer_1.T.dot(layer_2_delta)\n",
    "    weights_0_1 += alpha * layer_0.T.dot(layer_1_delta)\n",
    "\n",
    "  if (j % 10 == 0):\n",
    "    test_error = 0.0\n",
    "    test_correct_cnt = 0\n",
    "\n",
    "    for i in range(len(test_images)):\n",
    "      layer_0 = test_images[i:i+1]\n",
    "      layer_1 = relu(np.dot(layer_0, weights_0_1))\n",
    "      layer_2 = np.dot(layer_1, weights_1_2)\n",
    "\n",
    "      test_error += np.sum((test_labels[i:i+1] - layer_2) ** 2)\n",
    "      test_correct_cnt += int(np.argmax(layer_2) == np.argmax(test_labels[i:i+1]))\n",
    "\n",
    "    sys.stdout.write(\"\\n\" + \\\n",
    "                \" I:\" + str(j) + \\\n",
    "                \" Test Error:\" + str(test_error/float(len(test_images)))[0:5] + \\\n",
    "                \" Test Correct:\" + str(test_correct_cnt/float(len(test_images))) + \\\n",
    "                \" Train Error:\" + str(error/float(len(images)))[0:5] + \\\n",
    "                \" Train Correct:\" + str(correct_cnt/float(len(images))))"
   ]
  },
  {
   "cell_type": "code",
   "execution_count": 10,
   "metadata": {
    "colab": {
     "base_uri": "https://localhost:8080/",
     "height": 356
    },
    "id": "pY7UtiGXL3Mc",
    "outputId": "4c5ec200-9e29-45e1-8d55-235e53bad6a2"
   },
   "outputs": [
    {
     "name": "stdout",
     "output_type": "stream",
     "text": [
      "\n",
      "I:0 Test-Err:0.815 Test-Acc:0.3832 Train-Err:1.284 Train-Acc:0.165\n",
      "I:10 Test-Err:0.568 Test-Acc:0.7173 Train-Err:0.591 Train-Acc:0.672\n",
      "I:20 Test-Err:0.510 Test-Acc:0.7571 Train-Err:0.532 Train-Acc:0.729\n",
      "I:30 Test-Err:0.485 Test-Acc:0.7793 Train-Err:0.498 Train-Acc:0.754\n",
      "I:40 Test-Err:0.468 Test-Acc:0.7877 Train-Err:0.489 Train-Acc:0.749\n",
      "I:50 Test-Err:0.458 Test-Acc:0.793 Train-Err:0.468 Train-Acc:0.775"
     ]
    },
    {
     "ename": "KeyboardInterrupt",
     "evalue": "ignored",
     "output_type": "error",
     "traceback": [
      "\u001b[0;31m---------------------------------------------------------------------------\u001b[0m",
      "\u001b[0;31mKeyboardInterrupt\u001b[0m                         Traceback (most recent call last)",
      "\u001b[0;32m<ipython-input-10-db41d3b79123>\u001b[0m in \u001b[0;36m<module>\u001b[0;34m\u001b[0m\n\u001b[1;32m     53\u001b[0m \u001b[0;34m\u001b[0m\u001b[0m\n\u001b[1;32m     54\u001b[0m             \u001b[0mweights_1_2\u001b[0m \u001b[0;34m+=\u001b[0m \u001b[0malpha\u001b[0m \u001b[0;34m*\u001b[0m \u001b[0mlayer_1\u001b[0m\u001b[0;34m.\u001b[0m\u001b[0mT\u001b[0m\u001b[0;34m.\u001b[0m\u001b[0mdot\u001b[0m\u001b[0;34m(\u001b[0m\u001b[0mlayer_2_delta\u001b[0m\u001b[0;34m)\u001b[0m\u001b[0;34m\u001b[0m\u001b[0;34m\u001b[0m\u001b[0m\n\u001b[0;32m---> 55\u001b[0;31m             \u001b[0mweights_0_1\u001b[0m \u001b[0;34m+=\u001b[0m \u001b[0malpha\u001b[0m \u001b[0;34m*\u001b[0m \u001b[0mlayer_0\u001b[0m\u001b[0;34m.\u001b[0m\u001b[0mT\u001b[0m\u001b[0;34m.\u001b[0m\u001b[0mdot\u001b[0m\u001b[0;34m(\u001b[0m\u001b[0mlayer_1_delta\u001b[0m\u001b[0;34m)\u001b[0m\u001b[0;34m\u001b[0m\u001b[0;34m\u001b[0m\u001b[0m\n\u001b[0m\u001b[1;32m     56\u001b[0m \u001b[0;34m\u001b[0m\u001b[0m\n\u001b[1;32m     57\u001b[0m     \u001b[0;32mif\u001b[0m\u001b[0;34m(\u001b[0m\u001b[0mj\u001b[0m\u001b[0;34m%\u001b[0m\u001b[0;36m10\u001b[0m \u001b[0;34m==\u001b[0m \u001b[0;36m0\u001b[0m\u001b[0;34m)\u001b[0m\u001b[0;34m:\u001b[0m\u001b[0;34m\u001b[0m\u001b[0;34m\u001b[0m\u001b[0m\n",
      "\u001b[0;31mKeyboardInterrupt\u001b[0m: "
     ]
    }
   ],
   "source": [
    "import sys, numpy as np\n",
    "from keras.datasets import mnist\n",
    "\n",
    "np.random.seed(1)\n",
    "\n",
    "def relu(x):\n",
    "    return (x >= 0) * x # returns x if x > 0\n",
    "\n",
    "def relu2deriv(output):\n",
    "    return output >= 0 # returns 1 for input > 0\n",
    "\n",
    "(x_train, y_train), (x_test, y_test) = mnist.load_data()\n",
    "\n",
    "images, labels = (x_train[0:1000].reshape(1000, 28*28) / 255, y_train[0:1000])\n",
    "one_hot_labels = np.zeros((len(labels), 10))\n",
    "\n",
    "for i,l in enumerate(labels):\n",
    "  one_hot_labels[i][l] = 1\n",
    "labels = one_hot_labels\n",
    "\n",
    "test_images = x_test.reshape(len(x_test), 28*28) / 255\n",
    "test_labels = np.zeros((len(y_test), 10))\n",
    "for i,l in enumerate(y_test):\n",
    "  test_labels[i][l] = 1\n",
    "\n",
    "batch_size = 100\n",
    "alpha, iterations = (0.001, 300)\n",
    "pixels_per_image, num_labels, hidden_size = (784, 10, 100)\n",
    "\n",
    "weights_0_1 = 0.2*np.random.random((pixels_per_image,hidden_size)) - 0.1\n",
    "weights_1_2 = 0.2*np.random.random((hidden_size,num_labels)) - 0.1\n",
    "\n",
    "flag = True\n",
    "\n",
    "for j in range(iterations):\n",
    "    error, correct_cnt = (0.0, 0)\n",
    "    for i in range(int(len(images) / batch_size)):\n",
    "        batch_start, batch_end = ((i * batch_size),((i+1)*batch_size))\n",
    "\n",
    "        layer_0 = images[batch_start:batch_end]\n",
    "        layer_1 = relu(np.dot(layer_0,weights_0_1))\n",
    "        dropout_mask = np.random.randint(2,size=layer_1.shape)\n",
    "        layer_1 *= dropout_mask * 2\n",
    "        layer_2 = np.dot(layer_1,weights_1_2)\n",
    "\n",
    "        error += np.sum((labels[batch_start:batch_end] - layer_2) ** 2)\n",
    "        for k in range(batch_size):\n",
    "            correct_cnt += int(np.argmax(layer_2[k:k+1]) == np.argmax(labels[batch_start+k:batch_start+k+1]))\n",
    "\n",
    "            layer_2_delta = (labels[batch_start:batch_end]-layer_2)/batch_size\n",
    "            layer_1_delta = layer_2_delta.dot(weights_1_2.T)* relu2deriv(layer_1)\n",
    "            layer_1_delta *= dropout_mask\n",
    "\n",
    "            weights_1_2 += alpha * layer_1.T.dot(layer_2_delta)\n",
    "            weights_0_1 += alpha * layer_0.T.dot(layer_1_delta)\n",
    "            \n",
    "    if(j%10 == 0):\n",
    "        test_error = 0.0\n",
    "        test_correct_cnt = 0\n",
    "\n",
    "        for i in range(len(test_images)):\n",
    "            layer_0 = test_images[i:i+1]\n",
    "            layer_1 = relu(np.dot(layer_0,weights_0_1))\n",
    "            layer_2 = np.dot(layer_1, weights_1_2)\n",
    "\n",
    "            test_error += np.sum((test_labels[i:i+1] - layer_2) ** 2)\n",
    "            test_correct_cnt += int(np.argmax(layer_2) == np.argmax(test_labels[i:i+1]))\n",
    "\n",
    "        sys.stdout.write(\"\\n\" + \\\n",
    "                         \"I:\" + str(j) + \\\n",
    "                         \" Test-Err:\" + str(test_error/ float(len(test_images)))[0:5] +\\\n",
    "                         \" Test-Acc:\" + str(test_correct_cnt/ float(len(test_images)))+\\\n",
    "                         \" Train-Err:\" + str(error/ float(len(images)))[0:5] +\\\n",
    "                         \" Train-Acc:\" + str(correct_cnt/ float(len(images))))"
   ]
  },
  {
   "cell_type": "code",
   "execution_count": null,
   "metadata": {
    "colab": {
     "base_uri": "https://localhost:8080/"
    },
    "id": "Ra1FjPtFUYfB",
    "outputId": "45a4b639-5576-462c-ec98-f63e9bbb617a"
   },
   "outputs": [
    {
     "name": "stdout",
     "output_type": "stream",
     "text": [
      "5\n",
      "(28, 28)\n",
      "255\n"
     ]
    }
   ],
   "source": [
    "print(labels[0])\n",
    "print(x_train[0].shape)\n",
    "res = x_train[0:1000].reshape(1000, 28*28)\n",
    "print(np.amax(res))\n"
   ]
  }
 ],
 "metadata": {
  "colab": {
   "collapsed_sections": [],
   "provenance": []
  },
  "kernelspec": {
   "display_name": "Python 3 (ipykernel)",
   "language": "python",
   "name": "python3"
  },
  "language_info": {
   "codemirror_mode": {
    "name": "ipython",
    "version": 3
   },
   "file_extension": ".py",
   "mimetype": "text/x-python",
   "name": "python",
   "nbconvert_exporter": "python",
   "pygments_lexer": "ipython3",
   "version": "3.11.2"
  }
 },
 "nbformat": 4,
 "nbformat_minor": 4
}
