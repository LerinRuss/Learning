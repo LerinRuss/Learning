{
 "cells": [
  {
   "cell_type": "code",
   "execution_count": 1,
   "id": "30171d86-4e9e-435d-9558-be705429563d",
   "metadata": {},
   "outputs": [
    {
     "data": {
      "text/plain": [
       "0.30250000000000005"
      ]
     },
     "execution_count": 1,
     "metadata": {},
     "output_type": "execute_result"
    }
   ],
   "source": [
    "knob_weight = 0.5\n",
    "input = 0.5\n",
    "goal_pred = 0.8\n",
    "\n",
    "pred = input * knob_weight\n",
    "\n",
    "error = (pred - goal_pred) ** 2\n",
    "\n",
    "error"
   ]
  },
  {
   "cell_type": "code",
   "execution_count": 11,
   "id": "0516c8fc-e8d2-4d35-b3b7-23d6ed400bc2",
   "metadata": {},
   "outputs": [],
   "source": [
    "weight = 0.1\n",
    "lr = 0.01\n",
    "\n",
    "def neural_network(input, weight):\n",
    "    prediction = input * weight\n",
    "    \n",
    "    return prediction"
   ]
  },
  {
   "cell_type": "code",
   "execution_count": 9,
   "id": "22717a3f-3256-431e-9653-f41b1ca54a65",
   "metadata": {},
   "outputs": [
    {
     "data": {
      "text/plain": [
       "0.022499999999999975"
      ]
     },
     "execution_count": 9,
     "metadata": {},
     "output_type": "execute_result"
    }
   ],
   "source": [
    "number_of_toes = [8.5]\n",
    "win_or_lose_binary = [1]\n",
    "\n",
    "input = number_of_toes[0]\n",
    "true = win_or_lose_binary[0]\n",
    "\n",
    "pred = neural_network(input, weight)\n",
    "\n",
    "error = (pred - true) ** 2\n",
    "error"
   ]
  },
  {
   "cell_type": "code",
   "execution_count": 14,
   "id": "ce4e2d8f-eac9-4401-8d3d-b163c38602f1",
   "metadata": {},
   "outputs": [
    {
     "data": {
      "text/plain": [
       "0.004224999999999993"
      ]
     },
     "execution_count": 14,
     "metadata": {},
     "output_type": "execute_result"
    }
   ],
   "source": [
    "p_up = neural_network(input, weight + lr)\n",
    "\n",
    "e_up = (p_up - true)**2\n",
    "e_up"
   ]
  },
  {
   "cell_type": "code",
   "execution_count": 15,
   "id": "c701dfe1-b453-4e5e-bc56-3b52f6793422",
   "metadata": {},
   "outputs": [
    {
     "data": {
      "text/plain": [
       "0.05522499999999994"
      ]
     },
     "execution_count": 15,
     "metadata": {},
     "output_type": "execute_result"
    }
   ],
   "source": [
    "p_dn = neural_network(input, weight - lr)\n",
    "\n",
    "p_dn = (p_dn - true) ** 2\n",
    "p_dn"
   ]
  },
  {
   "cell_type": "code",
   "execution_count": 17,
   "id": "efa05cda-2dac-4999-b121-42df5d36bd87",
   "metadata": {},
   "outputs": [
    {
     "ename": "SyntaxError",
     "evalue": "'break' outside loop (1773806435.py, line 4)",
     "output_type": "error",
     "traceback": [
      "\u001b[1;36m  Input \u001b[1;32mIn [17]\u001b[1;36m\u001b[0m\n\u001b[1;33m    break\u001b[0m\n\u001b[1;37m    ^\u001b[0m\n\u001b[1;31mSyntaxError\u001b[0m\u001b[1;31m:\u001b[0m 'break' outside loop\n"
     ]
    }
   ],
   "source": [
    "if (error > e_dn or error > e_up):\n",
    "    if (e_dn < e_up):\n",
    "        weight -= lr\n",
    "        break\n",
    "    if (e_up < e_dn):\n",
    "        weight += lr\n",
    "weight"
   ]
  },
  {
   "cell_type": "code",
   "execution_count": null,
   "id": "363222bd-1f10-4340-a817-91e46ae5d545",
   "metadata": {},
   "outputs": [],
   "source": []
  }
 ],
 "metadata": {
  "kernelspec": {
   "display_name": "Python 3 (ipykernel)",
   "language": "python",
   "name": "python3"
  },
  "language_info": {
   "codemirror_mode": {
    "name": "ipython",
    "version": 3
   },
   "file_extension": ".py",
   "mimetype": "text/x-python",
   "name": "python",
   "nbconvert_exporter": "python",
   "pygments_lexer": "ipython3",
   "version": "3.10.4"
  }
 },
 "nbformat": 4,
 "nbformat_minor": 5
}
