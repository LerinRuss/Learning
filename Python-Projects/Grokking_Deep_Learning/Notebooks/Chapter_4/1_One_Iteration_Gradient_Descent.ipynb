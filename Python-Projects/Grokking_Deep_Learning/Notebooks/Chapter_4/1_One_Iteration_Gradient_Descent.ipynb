{
 "cells": [
  {
   "cell_type": "code",
   "execution_count": 9,
   "id": "a9831d72-0a3d-437c-a58f-8089234160fe",
   "metadata": {},
   "outputs": [
    {
     "data": {
      "text/plain": [
       "(0.8500000000000001,\n",
       " 0.022499999999999975,\n",
       " -0.1499999999999999,\n",
       " -1.2749999999999992,\n",
       " 0.11275)"
      ]
     },
     "execution_count": 9,
     "metadata": {},
     "output_type": "execute_result"
    }
   ],
   "source": [
    "weight = 0.1\n",
    "lr = 0.01\n",
    "\n",
    "def neural_network(input, weight):\n",
    "    prediction = input * weight\n",
    "    \n",
    "    return prediction\n",
    "\n",
    "number_of_toes = [8.5]\n",
    "win_or_lose_binary = [1]\n",
    "\n",
    "input = number_of_toes[0]\n",
    "goal_pred = win_or_lose_binary[0]\n",
    "\n",
    "pred = neural_network(input, weight)\n",
    "\n",
    "error = (pred - goal_pred) ** 2\n",
    "\n",
    "delta = pred - goal_pred\n",
    "weight_delta = input * delta\n",
    "\n",
    "alpha = 0.01\n",
    "weight -= weight_delta * alpha\n",
    "\n",
    "pred, error, delta, weight_delta, weight"
   ]
  },
  {
   "cell_type": "code",
   "execution_count": null,
   "id": "2aa55e4d-4334-488b-93fa-722b6af680ca",
   "metadata": {},
   "outputs": [],
   "source": []
  }
 ],
 "metadata": {
  "kernelspec": {
   "display_name": "Python 3 (ipykernel)",
   "language": "python",
   "name": "python3"
  },
  "language_info": {
   "codemirror_mode": {
    "name": "ipython",
    "version": 3
   },
   "file_extension": ".py",
   "mimetype": "text/x-python",
   "name": "python",
   "nbconvert_exporter": "python",
   "pygments_lexer": "ipython3",
   "version": "3.10.4"
  }
 },
 "nbformat": 4,
 "nbformat_minor": 5
}
