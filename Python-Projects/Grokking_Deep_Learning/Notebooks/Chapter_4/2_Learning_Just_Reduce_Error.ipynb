{
 "cells": [
  {
   "cell_type": "code",
   "execution_count": 7,
   "id": "46b5aaae-a32d-4205-a3f3-81e65f8277ca",
   "metadata": {
    "tags": []
   },
   "outputs": [
    {
     "name": "stdout",
     "output_type": "stream",
     "text": [
      "Error: 0.6400000000000001 Prediction: 0.0\n",
      "Error: 0.3600000000000001 Prediction: 0.2\n",
      "Error: 0.2025 Prediction: 0.35000000000000003\n",
      "Error: 0.11390625000000001 Prediction: 0.4625\n"
     ]
    }
   ],
   "source": [
    "weight, goal_pred, input = (0.0, 0.8, 0.5)\n",
    "\n",
    "for iteration in range(4):\n",
    "    pred = input * weight\n",
    "    error = (pred - goal_pred) ** 2\n",
    "    delta = pred - goal_pred\n",
    "    weight_delta = input * delta\n",
    "    weight = weight - weight_delta\n",
    "    print(\"Error: \" + str(error) + \" Prediction: \" + str(pred))\n",
    "\n",
    "    "
   ]
  },
  {
   "cell_type": "code",
   "execution_count": 11,
   "id": "f15ffa40-c916-45ae-ad2f-3b94cd3490df",
   "metadata": {},
   "outputs": [
    {
     "name": "stdout",
     "output_type": "stream",
     "text": [
      "----\n",
      "Weight: 0.0\n",
      "Error: 0.6400000000000001 Prediction: 0.0\n",
      "Delta: -0.8 Weight Delta: -0.8800000000000001\n",
      "----\n",
      "Weight: 0.8800000000000001\n",
      "Error: 0.02822400000000005 Prediction: 0.9680000000000002\n",
      "Delta: 0.16800000000000015 Weight Delta: 0.1848000000000002\n",
      "----\n",
      "Weight: 0.6951999999999999\n",
      "Error: 0.0012446784000000064 Prediction: 0.76472\n",
      "Delta: -0.03528000000000009 Weight Delta: -0.0388080000000001\n",
      "----\n",
      "Weight: 0.734008\n",
      "Error: 5.4890317439999896e-05 Prediction: 0.8074088\n",
      "Delta: 0.007408799999999993 Weight Delta: 0.008149679999999992\n"
     ]
    }
   ],
   "source": [
    "weight, goal_pred, input = (0.0, 0.8, 1.1)\n",
    "\n",
    "for iteration in range(4):\n",
    "    print(\"----\\nWeight: \" + str(weight))\n",
    "    pred = input * weight\n",
    "    error = ((input * weight) - goal_pred) ** 2\n",
    "    delta = pred - goal_pred\n",
    "    weight_delta = input * delta\n",
    "    weight = weight - weight_delta\n",
    "    print(\"Error: \" + str(error) + \" Prediction: \" + str(pred))\n",
    "    print(\"Delta: \" + str(delta) + \" Weight Delta: \" + str(weight_delta))\n"
   ]
  },
  {
   "cell_type": "code",
   "execution_count": 3,
   "id": "b95d9af9-4b56-4b81-9b32-c74681e32c70",
   "metadata": {},
   "outputs": [
    {
     "name": "stdout",
     "output_type": "stream",
     "text": [
      "Error: 0.03999999999999998 Prediction: 1.0\n",
      "Error: 0.3599999999999998 Prediction: 0.20000000000000018\n",
      "Error: 3.2399999999999984 Prediction: 2.5999999999999996\n",
      "Error: 29.159999999999986 Prediction: -4.599999999999999\n",
      "Error: 262.4399999999999 Prediction: 16.999999999999996\n",
      "Error: 2361.959999999998 Prediction: -47.79999999999998\n",
      "Error: 21257.639999999978 Prediction: 146.59999999999994\n",
      "Error: 191318.75999999983 Prediction: -436.5999999999998\n",
      "Error: 1721868.839999999 Prediction: 1312.9999999999995\n",
      "Error: 15496819.559999991 Prediction: -3935.799999999999\n",
      "Error: 139471376.03999993 Prediction: 11810.599999999997\n",
      "Error: 1255242384.3599997 Prediction: -35428.59999999999\n",
      "Error: 11297181459.239996 Prediction: 106288.99999999999\n",
      "Error: 101674633133.15994 Prediction: -318863.79999999993\n",
      "Error: 915071698198.4395 Prediction: 956594.5999999997\n",
      "Error: 8235645283785.954 Prediction: -2869780.599999999\n",
      "Error: 74120807554073.56 Prediction: 8609344.999999996\n",
      "Error: 667087267986662.1 Prediction: -25828031.799999986\n",
      "Error: 6003785411879960.0 Prediction: 77484098.59999996\n",
      "Error: 5.403406870691965e+16 Prediction: -232452292.5999999\n"
     ]
    }
   ],
   "source": [
    "weight, goal_pred, input = (0.5, 0.8, 2)\n",
    "\n",
    "for iteration in range(20):\n",
    "    pred = input * weight\n",
    "    error = (pred - goal_pred) ** 2\n",
    "    direction_and_amount = (pred - goal_pred) * input\n",
    "    weight -= direction_and_amount\n",
    "    \n",
    "    print(\"Error: \" + str(error) + \" Prediction: \" + str(pred))"
   ]
  },
  {
   "cell_type": "code",
   "execution_count": null,
   "id": "ac9a506c-f07e-4ac9-abbc-3ea55b7ff7a3",
   "metadata": {},
   "outputs": [],
   "source": []
  }
 ],
 "metadata": {
  "kernelspec": {
   "display_name": "Python 3 (ipykernel)",
   "language": "python",
   "name": "python3"
  },
  "language_info": {
   "codemirror_mode": {
    "name": "ipython",
    "version": 3
   },
   "file_extension": ".py",
   "mimetype": "text/x-python",
   "name": "python",
   "nbconvert_exporter": "python",
   "pygments_lexer": "ipython3",
   "version": "3.10.4"
  }
 },
 "nbformat": 4,
 "nbformat_minor": 5
}
