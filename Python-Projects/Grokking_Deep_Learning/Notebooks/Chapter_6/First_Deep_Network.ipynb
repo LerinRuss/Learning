{
 "cells": [
  {
   "cell_type": "code",
   "execution_count": 5,
   "id": "632a3fbc-cf23-4c8c-947b-2b9553687978",
   "metadata": {},
   "outputs": [
    {
     "name": "stdout",
     "output_type": "stream",
     "text": [
      "Weights 0 to 1:\n",
      "[[4.17022005e-01 7.20324493e-01 1.14374817e-04 3.02332573e-01]\n",
      " [1.46755891e-01 9.23385948e-02 1.86260211e-01 3.45560727e-01]\n",
      " [3.96767474e-01 5.38816734e-01 4.19194514e-01 6.85219500e-01]]\n",
      "Weights 1 to 2:\n",
      "[[0.20445225]\n",
      " [0.87811744]\n",
      " [0.02738759]\n",
      " [0.67046751]]\n",
      "Np dot: [0.81378948 1.25914123 0.41930889 0.98755207]\n"
     ]
    }
   ],
   "source": [
    "# Your First Deep Neural Netwok\n",
    "import numpy as np\n",
    "\n",
    "np.random.seed(1)\n",
    "\n",
    "def relu(x):\n",
    "    return (x > 0) * x\n",
    "\n",
    "alpha = 0.2\n",
    "hidden_size = 4\n",
    "street_lights = np.array([[1, 0, 1],\n",
    "                          [0, 1, 1],\n",
    "                          [0, 0, 1],\n",
    "                          [1, 1, 1]])\n",
    "walk_vs_stop = np.array([[1, 1, 0, 0]]).T\n",
    "\n",
    "weights_0_1 = np.random.random((3, hidden_size))\n",
    "weights_1_2 = np.random.random((hidden_size, 1))\n",
    "\n",
    "print('Weights 0 to 1:\\n' + str(weights_0_1))\n",
    "print('Weights 1 to 2:\\n' + str(weights_1_2))\n",
    "\n",
    "layer_0 = street_lights[0]\n",
    "layer_1 = relu(np.dot(layer_0, weights_0_1))\n",
    "layer_2 = np.dot(layer_1, weights_1_2)"
   ]
  },
  {
   "cell_type": "code",
   "execution_count": null,
   "id": "278df434-7e24-4d6d-ac11-30622e3f6135",
   "metadata": {},
   "outputs": [],
   "source": []
  },
  {
   "cell_type": "code",
   "execution_count": null,
   "id": "c07913af-7fd6-48c1-9a69-fe21f6cb3d3d",
   "metadata": {},
   "outputs": [],
   "source": []
  }
 ],
 "metadata": {
  "kernelspec": {
   "display_name": "Python 3 (ipykernel)",
   "language": "python",
   "name": "python3"
  },
  "language_info": {
   "codemirror_mode": {
    "name": "ipython",
    "version": 3
   },
   "file_extension": ".py",
   "mimetype": "text/x-python",
   "name": "python",
   "nbconvert_exporter": "python",
   "pygments_lexer": "ipython3",
   "version": "3.10.4"
  }
 },
 "nbformat": 4,
 "nbformat_minor": 5
}
