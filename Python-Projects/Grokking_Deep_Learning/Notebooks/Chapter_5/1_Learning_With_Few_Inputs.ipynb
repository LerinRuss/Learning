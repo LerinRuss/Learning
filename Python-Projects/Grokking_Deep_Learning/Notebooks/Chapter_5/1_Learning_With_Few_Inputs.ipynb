{
 "cells": [
  {
   "cell_type": "code",
   "execution_count": 6,
   "id": "9ad8b058-3b73-4cd7-a9d1-f0da5dbe152c",
   "metadata": {},
   "outputs": [
    {
     "name": "stdout",
     "output_type": "stream",
     "text": [
      "Prediction: 0.8600000000000001\n",
      "Delta: -0.1399999999999999\n",
      "Weights: [0.1119, 0.20091, -0.09832]\n",
      "Weight Deltas: [-1.189999999999999, -0.09099999999999994, -0.16799999999999987]\n"
     ]
    }
   ],
   "source": [
    "def w_sum(a, b):\n",
    "    assert(len(a) == len(b))\n",
    "    \n",
    "    output = 0\n",
    "    \n",
    "    for i in range(len(a)):\n",
    "        output += (a[i] * b[i])\n",
    "        \n",
    "    return output\n",
    "\n",
    "def neural_network(input, weights):\n",
    "    pred = w_sum(input, weights)\n",
    "    \n",
    "    return pred\n",
    "\n",
    "def ele_mul(number, vector):\n",
    "    output = [0, 0, 0]\n",
    "    \n",
    "    assert(len(output) == len(vector))\n",
    "    \n",
    "    for i in range(len(vector)):\n",
    "        output[i] = number * vector[i]\n",
    "        \n",
    "    return output\n",
    "    \n",
    "weights = [0.1, 0.2, -0.1]\n",
    "\n",
    "toes = [8.5, 9.5, 9.9, 9.0]\n",
    "wlrec = [0.65, 0.8, 0.8, 0.9]\n",
    "nfans = [1.2, 1.3, 0.5, 1.0]\n",
    "\n",
    "win_or_lose_binary = [1, 1, 0, 1]\n",
    "\n",
    "true = win_or_lose_binary[0]\n",
    "\n",
    "input = [toes[0], wlrec[0], nfans[0]]\n",
    "\n",
    "pred = neural_network(input, weights)\n",
    "\n",
    "error = (pred - true) ** 2\n",
    "\n",
    "delta = pred - true\n",
    "\n",
    "weight_deltas = ele_mul(delta, input)\n",
    "\n",
    "alpha = 0.01\n",
    "\n",
    "for i in range(len(weights)):\n",
    "    weights[i] -= alpha * weight_deltas[i]\n",
    "\n",
    "print('Prediction: ' + str(pred))\n",
    "print('Delta: ' + str(delta))\n",
    "print('Weights: ' + str(weights))\n",
    "print('Weight Deltas: ' + str(weight_deltas))"
   ]
  },
  {
   "cell_type": "code",
   "execution_count": null,
   "id": "2bd95776-0656-44e4-b11a-76fb3905c23b",
   "metadata": {},
   "outputs": [],
   "source": []
  }
 ],
 "metadata": {
  "kernelspec": {
   "display_name": "Python 3 (ipykernel)",
   "language": "python",
   "name": "python3"
  },
  "language_info": {
   "codemirror_mode": {
    "name": "ipython",
    "version": 3
   },
   "file_extension": ".py",
   "mimetype": "text/x-python",
   "name": "python",
   "nbconvert_exporter": "python",
   "pygments_lexer": "ipython3",
   "version": "3.10.4"
  }
 },
 "nbformat": 4,
 "nbformat_minor": 5
}
