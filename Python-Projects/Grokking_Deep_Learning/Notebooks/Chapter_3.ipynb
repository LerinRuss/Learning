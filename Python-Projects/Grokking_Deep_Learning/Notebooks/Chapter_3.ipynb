{
 "cells": [
  {
   "cell_type": "code",
   "execution_count": 1,
   "id": "da8550d0-923a-4297-b795-27c88b2d4116",
   "metadata": {},
   "outputs": [
    {
     "name": "stdout",
     "output_type": "stream",
     "text": [
      "0.8500000000000001\n"
     ]
    }
   ],
   "source": [
    "weight = 0.1\n",
    "\n",
    "def neural_network(input, weight):\n",
    "    prediction = input * weight\n",
    "    \n",
    "    return prediction\n",
    "\n",
    "number_of_toes = [8.5, 9.5, 10, 9]\n",
    "input = number_of_toes[0]\n",
    "pred = neural_network(input, weight)\n",
    "print(pred)"
   ]
  },
  {
   "cell_type": "code",
   "execution_count": 6,
   "id": "8ae45e17-c7de-4363-97c6-ba03bfd9dac8",
   "metadata": {},
   "outputs": [
    {
     "data": {
      "text/plain": [
       "0.9800000000000001"
      ]
     },
     "execution_count": 6,
     "metadata": {},
     "output_type": "execute_result"
    }
   ],
   "source": [
    "weights = [0.1, 0.2, 0]\n",
    "\n",
    "def w_sum(a, b):\n",
    "    assert(len(a) == len(b))\n",
    "    \n",
    "    output = 0\n",
    "    \n",
    "    for i in range(len(a)):\n",
    "        output += (a[i] * b[i])\n",
    "        \n",
    "    return output\n",
    "\n",
    "def neural_network(input, weights):\n",
    "    pred = w_sum(input, weights)\n",
    "    return pred\n",
    "\n",
    "toes = [8.5, 9.5, 9.9, 9.0]\n",
    "wlrec = [0.65, 0.8, 0.8, 0.9]\n",
    "nfans = [1.2, 1.3, 0.5, 1.0]\n",
    "\n",
    "input = [toes[0], wlrec[0], nfans[0]]\n",
    "\n",
    "pred = neural_network(input, weights)\n",
    "\n",
    "pred"
   ]
  },
  {
   "cell_type": "code",
   "execution_count": 2,
   "id": "1c9c1b46-2edb-40be-98a3-4c2ceee5993d",
   "metadata": {},
   "outputs": [
    {
     "data": {
      "text/plain": [
       "0.9800000000000001"
      ]
     },
     "execution_count": 2,
     "metadata": {},
     "output_type": "execute_result"
    }
   ],
   "source": [
    "import numpy as np\n",
    "\n",
    "weights = np.array([0.1, 0.2, 0])\n",
    "\n",
    "def neural_network(input, weights):\n",
    "    pred = input.dot(weights)\n",
    "    \n",
    "    return pred\n",
    "\n",
    "toes = np.array([8.5, 9.5, 9.9, 9.0])\n",
    "wlrec = np.array([0.65, 0.8, 0.8, 0.9])\n",
    "nfans = np.array([1.2, 1.3, 0.5, 1.0])\n",
    "\n",
    "input = np.array([toes[0], wlrec[0], nfans[0]])\n",
    "pred = neural_network(input, weights)\n",
    "\n",
    "pred"
   ]
  },
  {
   "cell_type": "code",
   "execution_count": 4,
   "id": "82133c65-fd21-4424-885b-887240604e02",
   "metadata": {},
   "outputs": [
    {
     "data": {
      "text/plain": [
       "[0.195, 0.13, 0.5850000000000001]"
      ]
     },
     "execution_count": 4,
     "metadata": {},
     "output_type": "execute_result"
    }
   ],
   "source": [
    "weights = [0.3, 0.2, 0.9]\n",
    "\n",
    "def ele_mul(number, vector):\n",
    "    output = [0, 0, 0]\n",
    "    \n",
    "    assert(len(output) == len(vector))\n",
    "    \n",
    "    for i in range(len(vector)):\n",
    "        output[i] = number * vector[i]\n",
    "        \n",
    "    return output\n",
    "\n",
    "def neural_network(input, weights):\n",
    "    pred = ele_mul(input, weights)\n",
    "    \n",
    "    return pred\n",
    "\n",
    "wlrec = [0.65, 0.8, 0.8, 0.9]\n",
    "input = wlrec[0]\n",
    "pred = neural_network(input, weights)\n",
    "\n",
    "pred"
   ]
  },
  {
   "cell_type": "code",
   "execution_count": 5,
   "id": "259efa4b-c5a1-4829-879b-44651e14d26e",
   "metadata": {},
   "outputs": [
    {
     "data": {
      "text/plain": [
       "[0.555, 0.9800000000000001, 0.9650000000000001]"
      ]
     },
     "execution_count": 5,
     "metadata": {},
     "output_type": "execute_result"
    }
   ],
   "source": [
    "weights = [[0.1, 0.1, -0.3],\n",
    "          [0.1, 0.2, 0.0],\n",
    "          [0.0, 1.3, 0.1]]\n",
    "\n",
    "def w_sum(a, b):\n",
    "    assert(len(a) == len(b))\n",
    "    \n",
    "    output = 0\n",
    "    \n",
    "    for i in range(len(a)):\n",
    "        output += (a[i] * b[i])\n",
    "        \n",
    "    return output\n",
    "\n",
    "def vect_mat_mul(vect, matrix):\n",
    "    assert(len(vect) == len(matrix))\n",
    "    output = [0, 0, 0]\n",
    "    \n",
    "    assert(len(vect) == len(output))\n",
    "    \n",
    "    for i in range(len(vect)):\n",
    "        output[i] = w_sum(vect, matrix[i])\n",
    "        \n",
    "    return output\n",
    "\n",
    "def neural_network(input, weights):\n",
    "    pred = vect_mat_mul(input, weights)\n",
    "    \n",
    "    return pred\n",
    "\n",
    "toes = [8.5, 9.5, 9.9, 9.0]\n",
    "wlrec = [0.65, 0.8, 0.8, 0.9]\n",
    "nfans = [1.2, 1.3, 0.5, 1.0]\n",
    "\n",
    "input = [toes[0], wlrec[0], nfans[0]]\n",
    "\n",
    "pred = neural_network(input, weights)\n",
    "\n",
    "pred"
   ]
  },
  {
   "cell_type": "code",
   "execution_count": 8,
   "id": "8e642bbd-437e-43be-aab1-4f3fc99950bf",
   "metadata": {},
   "outputs": [
    {
     "data": {
      "text/plain": [
       "[0.21350000000000002, 0.14500000000000002, 0.5065]"
      ]
     },
     "execution_count": 8,
     "metadata": {},
     "output_type": "execute_result"
    }
   ],
   "source": [
    "ih_wgt = [[0.1, 0.2, -0.1],\n",
    "         [-0.1, 0.1, 0.9],\n",
    "         [0.1, 0.4, 0.1]]\n",
    "\n",
    "hp_wgt = [[0.3, 1.1, -0.3],\n",
    "         [0.1, 0.2, 0.0],\n",
    "         [0.0, 1.3, 0.1]]\n",
    "\n",
    "weights = [ih_wgt, hp_wgt]\n",
    "\n",
    "def w_sum(a, b):\n",
    "    assert(len(a) == len(b))\n",
    "    \n",
    "    output = 0\n",
    "    \n",
    "    for i in range(len(a)):\n",
    "        output += (a[i] * b[i])\n",
    "        \n",
    "    return output\n",
    "\n",
    "def vect_mat_mul(vect, matrix):\n",
    "    assert(len(vect) == len(matrix))\n",
    "    output = [0, 0, 0]\n",
    "    \n",
    "    assert(len(vect) == len(output))\n",
    "    \n",
    "    for i in range(len(vect)):\n",
    "        output[i] = w_sum(vect, matrix[i])\n",
    "        \n",
    "    return output\n",
    "\n",
    "def neural_network(input, weights):\n",
    "    hid = vect_mat_mul(input, weights[0])\n",
    "    pred = vect_mat_mul(hid, weights[1])\n",
    "    \n",
    "    return pred\n",
    "\n",
    "toes = [8.5, 9.5, 9.9, 9.0]\n",
    "wlrec = [0.65, 0.8, 0.8, 0.9]\n",
    "nfans = [1.2, 1.3, 0.5, 1.0]\n",
    "\n",
    "input = [toes[0], wlrec[0], nfans[0]]\n",
    "\n",
    "pred = neural_network(input, weights)\n",
    "\n",
    "pred"
   ]
  },
  {
   "cell_type": "code",
   "execution_count": 10,
   "id": "3def1dc6-d5ce-40f8-9e20-fb3a3a2fe2d0",
   "metadata": {},
   "outputs": [
    {
     "data": {
      "text/plain": [
       "array([0.2135, 0.145 , 0.5065])"
      ]
     },
     "execution_count": 10,
     "metadata": {},
     "output_type": "execute_result"
    }
   ],
   "source": [
    "import numpy as np\n",
    "\n",
    "ih_wgt = np.array([[0.1, 0.2, -0.1],\n",
    "         [-0.1, 0.1, 0.9],\n",
    "         [0.1, 0.4, 0.1]]).T\n",
    "\n",
    "hp_wgt = np.array([[0.3, 1.1, -0.3],\n",
    "         [0.1, 0.2, 0.0],\n",
    "         [0.0, 1.3, 0.1]]).T\n",
    "\n",
    "weights = [ih_wgt, hp_wgt]\n",
    "\n",
    "def neural_network(input, weights):\n",
    "    hid = input.dot(weights[0])\n",
    "    pred = hid.dot(weights[1])\n",
    "    \n",
    "    return pred\n",
    "\n",
    "toes = [8.5, 9.5, 9.9, 9.0]\n",
    "wlrec = [0.65, 0.8, 0.8, 0.9]\n",
    "nfans = [1.2, 1.3, 0.5, 1.0]\n",
    "\n",
    "input = np.array([toes[0], wlrec[0], nfans[0]])\n",
    "\n",
    "pred = neural_network(input, weights)\n",
    "\n",
    "pred"
   ]
  },
  {
   "cell_type": "code",
   "execution_count": 19,
   "id": "793e03b5-9269-4c39-be04-98f74716526a",
   "metadata": {},
   "outputs": [
    {
     "data": {
      "text/plain": [
       "(array([0, 1, 2, 3]),\n",
       " array([4, 5, 6, 7]),\n",
       " array([[0, 1, 2, 3],\n",
       "        [4, 5, 6, 7]]),\n",
       " array([[0., 0., 0., 0.],\n",
       "        [0., 0., 0., 0.]]),\n",
       " array([[0.72493732, 0.86392579, 0.47195173, 0.5397061 , 0.36416751],\n",
       "        [0.71304689, 0.11675171, 0.97825553, 0.30191647, 0.97033653]]))"
      ]
     },
     "execution_count": 19,
     "metadata": {},
     "output_type": "execute_result"
    }
   ],
   "source": [
    "import numpy as np\n",
    "\n",
    "a = np.array([0, 1, 2, 3])\n",
    "b = np.array([4, 5, 6, 7])\n",
    "c = np.array([[0, 1, 2, 3],\n",
    "             [4, 5, 6, 7]])\n",
    "d = np.zeros((2, 4))\n",
    "e = np.random.rand(2, 5)\n",
    "\n",
    "a, b, c, d, e"
   ]
  },
  {
   "cell_type": "code",
   "execution_count": 16,
   "id": "060c75e6-bb64-40df-aab8-529103cfb58a",
   "metadata": {},
   "outputs": [
    {
     "data": {
      "text/plain": [
       "(array([0. , 0.1, 0.2, 0.3]),\n",
       " array([[0. , 0.2, 0.4, 0.6],\n",
       "        [0.8, 1. , 1.2, 1.4]]),\n",
       " array([ 0,  5, 12, 21]),\n",
       " array([0. , 1. , 2.4, 4.2]),\n",
       " array([[ 0,  1,  4,  9],\n",
       "        [ 0,  5, 12, 21]]))"
      ]
     },
     "execution_count": 16,
     "metadata": {},
     "output_type": "execute_result"
    }
   ],
   "source": [
    "a * 0.1, c * 0.2, a * b, a * b * 0.2, a * c"
   ]
  },
  {
   "cell_type": "code",
   "execution_count": 17,
   "id": "fd8f9d51-adec-4c7a-8e18-0d490fd106c5",
   "metadata": {},
   "outputs": [
    {
     "ename": "ValueError",
     "evalue": "operands could not be broadcast together with shapes (4,) (2,5) ",
     "output_type": "error",
     "traceback": [
      "\u001b[1;31m---------------------------------------------------------------------------\u001b[0m",
      "\u001b[1;31mValueError\u001b[0m                                Traceback (most recent call last)",
      "Input \u001b[1;32mIn [17]\u001b[0m, in \u001b[0;36m<cell line: 1>\u001b[1;34m()\u001b[0m\n\u001b[1;32m----> 1\u001b[0m \u001b[43ma\u001b[49m\u001b[43m \u001b[49m\u001b[38;5;241;43m*\u001b[39;49m\u001b[43m \u001b[49m\u001b[43me\u001b[49m\n",
      "\u001b[1;31mValueError\u001b[0m: operands could not be broadcast together with shapes (4,) (2,5) "
     ]
    }
   ],
   "source": [
    "a * e"
   ]
  },
  {
   "cell_type": "code",
   "execution_count": 20,
   "id": "53ad26f5-5fe7-4755-9608-b7d32485f6b4",
   "metadata": {},
   "outputs": [
    {
     "data": {
      "text/plain": [
       "(1, 3)"
      ]
     },
     "execution_count": 20,
     "metadata": {},
     "output_type": "execute_result"
    }
   ],
   "source": [
    "a = np.zeros((1, 4))\n",
    "b = np.zeros((4, 3))\n",
    "\n",
    "c = a.dot(b)\n",
    "c.shape"
   ]
  },
  {
   "cell_type": "code",
   "execution_count": 21,
   "id": "c4684055-b723-48b6-af84-16d2385d9d65",
   "metadata": {},
   "outputs": [
    {
     "name": "stdout",
     "output_type": "stream",
     "text": [
      "(2, 3)\n",
      "(2, 3)\n",
      "(4, 6)\n"
     ]
    },
    {
     "ename": "ValueError",
     "evalue": "shapes (5,4) and (5,6) not aligned: 4 (dim 1) != 5 (dim 0)",
     "output_type": "error",
     "traceback": [
      "\u001b[1;31m---------------------------------------------------------------------------\u001b[0m",
      "\u001b[1;31mValueError\u001b[0m                                Traceback (most recent call last)",
      "Input \u001b[1;32mIn [21]\u001b[0m, in \u001b[0;36m<cell line: 21>\u001b[1;34m()\u001b[0m\n\u001b[0;32m     19\u001b[0m h \u001b[38;5;241m=\u001b[39m np\u001b[38;5;241m.\u001b[39mzeros((\u001b[38;5;241m5\u001b[39m, \u001b[38;5;241m4\u001b[39m))\n\u001b[0;32m     20\u001b[0m i \u001b[38;5;241m=\u001b[39m np\u001b[38;5;241m.\u001b[39mzeros((\u001b[38;5;241m5\u001b[39m, \u001b[38;5;241m6\u001b[39m))\n\u001b[1;32m---> 21\u001b[0m j \u001b[38;5;241m=\u001b[39m \u001b[43mh\u001b[49m\u001b[38;5;241;43m.\u001b[39;49m\u001b[43mdot\u001b[49m\u001b[43m(\u001b[49m\u001b[43mi\u001b[49m\u001b[43m)\u001b[49m\n\u001b[0;32m     22\u001b[0m \u001b[38;5;28mprint\u001b[39m(j\u001b[38;5;241m.\u001b[39mshape)\n",
      "\u001b[1;31mValueError\u001b[0m: shapes (5,4) and (5,6) not aligned: 4 (dim 1) != 5 (dim 0)"
     ]
    }
   ],
   "source": [
    "a = np.zeros((2, 4))\n",
    "b = np.zeros((4, 3))\n",
    "\n",
    "c = a.dot(b)\n",
    "print(c.shape)\n",
    "\n",
    "e = np.zeros((2, 1))\n",
    "f = np.zeros((1, 3))\n",
    "\n",
    "g = e.dot(f)\n",
    "print(g.shape)\n",
    "\n",
    "h = np.zeros((5, 4)).T\n",
    "i = np.zeros((5, 6))\n",
    "\n",
    "j = h.dot(i)\n",
    "print(j.shape)\n",
    "\n",
    "h = np.zeros((5, 4))\n",
    "i = np.zeros((5, 6))\n",
    "j = h.dot(i)\n",
    "print(j.shape)"
   ]
  },
  {
   "cell_type": "code",
   "execution_count": null,
   "id": "7a0f15a0-e071-497a-ba3a-102fbb0b3008",
   "metadata": {},
   "outputs": [],
   "source": []
  }
 ],
 "metadata": {
  "kernelspec": {
   "display_name": "Python 3 (ipykernel)",
   "language": "python",
   "name": "python3"
  },
  "language_info": {
   "codemirror_mode": {
    "name": "ipython",
    "version": 3
   },
   "file_extension": ".py",
   "mimetype": "text/x-python",
   "name": "python",
   "nbconvert_exporter": "python",
   "pygments_lexer": "ipython3",
   "version": "3.10.4"
  }
 },
 "nbformat": 4,
 "nbformat_minor": 5
}
